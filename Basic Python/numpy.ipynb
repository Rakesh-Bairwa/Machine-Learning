{
 "cells": [
  {
   "cell_type": "code",
   "execution_count": 1,
   "id": "5b89a756",
   "metadata": {},
   "outputs": [],
   "source": [
    "import numpy as np"
   ]
  },
  {
   "cell_type": "code",
   "execution_count": 6,
   "id": "8d6dd7a1",
   "metadata": {},
   "outputs": [],
   "source": [
    "#create matrix of n x m \n",
    "# default m = 1\n",
    "n = 5\n",
    "vec = np.random.rand(n)\n",
    "\n",
    "matrix = np.random.rand(n, n)"
   ]
  },
  {
   "cell_type": "code",
   "execution_count": 7,
   "id": "ce59e624",
   "metadata": {},
   "outputs": [
    {
     "name": "stdout",
     "output_type": "stream",
     "text": [
      "[0.0474951  0.63887766 0.94700475 0.18144698 0.3737389 ]\n"
     ]
    }
   ],
   "source": [
    "print(vec)"
   ]
  },
  {
   "cell_type": "code",
   "execution_count": 8,
   "id": "5a24828b",
   "metadata": {},
   "outputs": [
    {
     "name": "stdout",
     "output_type": "stream",
     "text": [
      "[[0.28557317 0.02030785 0.26328726 0.80873403 0.34779049]\n",
      " [0.08174258 0.30942717 0.25644506 0.07288077 0.50719459]\n",
      " [0.84015228 0.05310035 0.69445664 0.87285137 0.46737519]\n",
      " [0.87094043 0.36372882 0.92547668 0.98452297 0.5551479 ]\n",
      " [0.83545351 0.12014332 0.80490701 0.93261285 0.91138183]]\n"
     ]
    }
   ],
   "source": [
    "print(matrix)"
   ]
  },
  {
   "cell_type": "code",
   "execution_count": 12,
   "id": "4243d643",
   "metadata": {},
   "outputs": [
    {
     "data": {
      "text/plain": [
       "array([5, 8, 9])"
      ]
     },
     "execution_count": 12,
     "metadata": {},
     "output_type": "execute_result"
    }
   ],
   "source": [
    "#random integers belongs to [low, high), total_element  = size\n",
    "low  = 1\n",
    "high = 10\n",
    "size = 3\n",
    "np.random.randint(low, high, size, dtype = int)"
   ]
  },
  {
   "cell_type": "code",
   "execution_count": 45,
   "id": "f460e573",
   "metadata": {},
   "outputs": [
    {
     "name": "stdout",
     "output_type": "stream",
     "text": [
      "(5,)\n",
      "float64\n",
      "<memory at 0x7f903fcefd00>\n",
      "(8,)\n",
      "(40, 8)\n"
     ]
    }
   ],
   "source": [
    "print(vec.shape)\n",
    "print(vec.dtype)\n",
    "print(vec.data) # return address of 1st elemen\n",
    "print(vec.strides) # no. of bytes need to skipped to get the next element in the vector (or matrix)\n",
    "# for 2d array it will return (a, b) where a = no. of need bytes need to skip to get the \n",
    "# next row at same column, b = no. of bytes need to skip to get the next element in same row\n",
    "print(matrix.strides)"
   ]
  },
  {
   "cell_type": "code",
   "execution_count": 24,
   "id": "2e3ed23b",
   "metadata": {},
   "outputs": [
    {
     "name": "stdout",
     "output_type": "stream",
     "text": [
      "[[1, 2, 3, 4], [5, 6, 7, 8], [9, 10, 11, 12], [13, 14, 15, 16]]\n",
      "[[ 1  2  3  4]\n",
      " [ 5  6  7  8]\n",
      " [ 9 10 11 12]\n",
      " [13 14 15 16]]\n"
     ]
    }
   ],
   "source": [
    "# 2D arrays & indexing\n",
    "list_2d = [[1,2,3,4],[5,6,7,8],[9,10,11,12],[13,14,15,16]]\n",
    "np_arr = np.array(list_2d)\n",
    "print(list_2d)\n",
    "print(np_arr)"
   ]
  },
  {
   "cell_type": "code",
   "execution_count": 36,
   "id": "45780d14",
   "metadata": {},
   "outputs": [
    {
     "name": "stdout",
     "output_type": "stream",
     "text": [
      "[[1, 2, 3, 4], [5, 6, 7, 8], [9, 10, 11, 12]]\n",
      "[9, 10, 11, 12]\n",
      "[ 3  7 11]\n",
      "[ 9 10 11 12]\n"
     ]
    }
   ],
   "source": [
    "print(list_2d[0:3]) # [return row 0,1,2]\n",
    "print(list_2d[0:3][2]) # [\"...\"][return 2nd element of output] \n",
    "#above will give error for [0:3][3] coz indexing start from 2 => 3rd element\n",
    "# NOTE : we're NOT getting a part in 2D list, it return entire row\n",
    "# For a paricular part we need to loop over output\n",
    "print(np_arr[0:3, 2]) # return all the row values for 2nd column\n",
    "print(np_arr[0:3][2]) # Working as above list"
   ]
  },
  {
   "cell_type": "code",
   "execution_count": 44,
   "id": "cde11c8a",
   "metadata": {},
   "outputs": [
    {
     "name": "stdout",
     "output_type": "stream",
     "text": [
      "3\n",
      "0\n",
      "15\n"
     ]
    }
   ],
   "source": [
    "# floor divison : a // b\n",
    "print(10 // 3)\n",
    "# index of min-element & max-element\n",
    "print(vec.argmin())\n",
    "print(np_arr.argmax())\n",
    "# argmin,.... ONLY work for np-arrays \n",
    "#list_2d.argmin() ----> ERROR"
   ]
  },
  {
   "cell_type": "code",
   "execution_count": 52,
   "id": "66359acc",
   "metadata": {},
   "outputs": [
    {
     "name": "stdout",
     "output_type": "stream",
     "text": [
      "[ 1 12 30  4  5]\n",
      "[False  True  True False False]\n",
      "[100 100 100   4   5]\n",
      "(array([0, 1, 2]),)\n"
     ]
    }
   ],
   "source": [
    "# Boolean indexing : extract element i.e; either T or F\n",
    "arr = np.array([1,12,30,4,5])\n",
    "print(arr)\n",
    "print(arr > 5)\n",
    "# We can even update array using boolean indexing\n",
    "arr[:3] = 100\n",
    "print(arr)\n",
    "#returning index acc. to condition\n",
    "idx = np.where(arr == 100) # we can use other operators also\n",
    "print(idx)"
   ]
  },
  {
   "cell_type": "code",
   "execution_count": 55,
   "id": "8e5d132a",
   "metadata": {},
   "outputs": [
    {
     "ename": "TypeError",
     "evalue": "array() takes from 1 to 2 positional arguments but 3 were given",
     "output_type": "error",
     "traceback": [
      "\u001b[0;31m---------------------------------------------------------------------------\u001b[0m",
      "\u001b[0;31mTypeError\u001b[0m                                 Traceback (most recent call last)",
      "\u001b[0;32m/tmp/ipykernel_15539/1285949943.py\u001b[0m in \u001b[0;36m<module>\u001b[0;34m\u001b[0m\n\u001b[1;32m      2\u001b[0m \u001b[0;31m# CONDITION : Either matrix X or Y or both must be row (or column) VECTOR\u001b[0m\u001b[0;34m\u001b[0m\u001b[0;34m\u001b[0m\u001b[0;34m\u001b[0m\u001b[0m\n\u001b[1;32m      3\u001b[0m \u001b[0mx\u001b[0m \u001b[0;34m=\u001b[0m \u001b[0mnp\u001b[0m\u001b[0;34m.\u001b[0m\u001b[0marray\u001b[0m\u001b[0;34m(\u001b[0m\u001b[0;34m[\u001b[0m\u001b[0;36m1\u001b[0m\u001b[0;34m,\u001b[0m\u001b[0;36m2\u001b[0m\u001b[0;34m,\u001b[0m\u001b[0;36m3\u001b[0m\u001b[0;34m]\u001b[0m\u001b[0;34m)\u001b[0m\u001b[0;34m\u001b[0m\u001b[0;34m\u001b[0m\u001b[0m\n\u001b[0;32m----> 4\u001b[0;31m \u001b[0mz\u001b[0m \u001b[0;34m=\u001b[0m \u001b[0mnp\u001b[0m\u001b[0;34m.\u001b[0m\u001b[0marray\u001b[0m\u001b[0;34m(\u001b[0m\u001b[0;34m[\u001b[0m\u001b[0;36m1\u001b[0m\u001b[0;34m]\u001b[0m\u001b[0;34m,\u001b[0m\u001b[0;34m[\u001b[0m\u001b[0;36m2\u001b[0m\u001b[0;34m]\u001b[0m\u001b[0;34m,\u001b[0m\u001b[0;34m[\u001b[0m\u001b[0;36m3\u001b[0m\u001b[0;34m]\u001b[0m\u001b[0;34m)\u001b[0m\u001b[0;34m\u001b[0m\u001b[0;34m\u001b[0m\u001b[0m\n\u001b[0m\u001b[1;32m      5\u001b[0m \u001b[0my\u001b[0m \u001b[0;34m=\u001b[0m \u001b[0mnp\u001b[0m\u001b[0;34m.\u001b[0m\u001b[0marray\u001b[0m\u001b[0;34m(\u001b[0m\u001b[0;34m[\u001b[0m\u001b[0;34m[\u001b[0m\u001b[0;36m9\u001b[0m\u001b[0;34m,\u001b[0m\u001b[0;36m8\u001b[0m\u001b[0;34m,\u001b[0m\u001b[0;36m7\u001b[0m\u001b[0;34m]\u001b[0m\u001b[0;34m,\u001b[0m\u001b[0;34m[\u001b[0m\u001b[0;36m6\u001b[0m\u001b[0;34m,\u001b[0m\u001b[0;36m5\u001b[0m\u001b[0;34m,\u001b[0m\u001b[0;36m4\u001b[0m\u001b[0;34m]\u001b[0m\u001b[0;34m,\u001b[0m\u001b[0;34m[\u001b[0m\u001b[0;36m3\u001b[0m\u001b[0;34m,\u001b[0m\u001b[0;36m2\u001b[0m\u001b[0;34m,\u001b[0m\u001b[0;36m1\u001b[0m\u001b[0;34m]\u001b[0m\u001b[0;34m]\u001b[0m\u001b[0;34m)\u001b[0m\u001b[0;34m\u001b[0m\u001b[0;34m\u001b[0m\u001b[0m\n\u001b[1;32m      6\u001b[0m \u001b[0mprint\u001b[0m\u001b[0;34m(\u001b[0m\u001b[0mx\u001b[0m \u001b[0;34m-\u001b[0m \u001b[0my\u001b[0m\u001b[0;34m)\u001b[0m\u001b[0;34m\u001b[0m\u001b[0;34m\u001b[0m\u001b[0m\n",
      "\u001b[0;31mTypeError\u001b[0m: array() takes from 1 to 2 positional arguments but 3 were given"
     ]
    }
   ],
   "source": [
    "# Broadcasting of array : used when we want to perform mathematical operation over 2 matrix of diff size\n",
    "# CONDITION : Either matrix X or Y or both must be row (or column) VECTOR\n",
    "x = np.array([1,2,3])\n",
    "z = np.array([[1],[2],[3]])\n",
    "y = np.array([[9,8,7],[6,5,4],[3,2,1]])\n",
    "print(x - y)\n",
    "print(z - y)\n",
    "print(x - z)\n",
    "# It will make x of size 3*3 => repeating each row & for z repeating each col "
   ]
  }
 ],
 "metadata": {
  "kernelspec": {
   "display_name": "Python 3 (ipykernel)",
   "language": "python",
   "name": "python3"
  },
  "language_info": {
   "codemirror_mode": {
    "name": "ipython",
    "version": 3
   },
   "file_extension": ".py",
   "mimetype": "text/x-python",
   "name": "python",
   "nbconvert_exporter": "python",
   "pygments_lexer": "ipython3",
   "version": "3.8.10"
  }
 },
 "nbformat": 4,
 "nbformat_minor": 5
}
