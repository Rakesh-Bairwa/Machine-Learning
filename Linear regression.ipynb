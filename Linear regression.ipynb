{
 "cells": [
  {
   "cell_type": "code",
   "execution_count": 1,
   "id": "a86078bb",
   "metadata": {},
   "outputs": [],
   "source": [
    "from sklearn import datasets\n",
    "import pandas as pd\n",
    "import numpy as np"
   ]
  },
  {
   "cell_type": "code",
   "execution_count": 3,
   "id": "8d78a985",
   "metadata": {},
   "outputs": [],
   "source": [
    "boston = datasets.load_boston() # This is sample dataset\n",
    "# Load txt,csv.. data using numpy: np.loadtxt(\"location/...csv(or tsv, txt,..)\", delimiter = \",\")\n",
    "# for csv file delimiter = , It will be store as 2D array"
   ]
  },
  {
   "cell_type": "code",
   "execution_count": 4,
   "id": "bc162090",
   "metadata": {},
   "outputs": [
    {
     "data": {
      "text/plain": [
       "'Pandas Dataframe :\\n    2-dimensional heterogonous array.\\n    used for tabular data\\n\\nNumPy’s array :\\n    Multi-dimensional homogeneous array.\\n    used for numerical data '"
      ]
     },
     "execution_count": 4,
     "metadata": {},
     "output_type": "execute_result"
    }
   ],
   "source": [
    "\"\"\"Pandas Dataframe :\n",
    "    2-dimensional heterogonous array.\n",
    "    used for tabular data\n",
    "\n",
    "NumPy’s array :\n",
    "    Multi-dimensional homogeneous array.\n",
    "    used for numerical data \"\"\""
   ]
  },
  {
   "cell_type": "code",
   "execution_count": 5,
   "id": "5e6501fe",
   "metadata": {},
   "outputs": [
    {
     "data": {
      "text/plain": [
       "sklearn.utils.Bunch"
      ]
     },
     "execution_count": 5,
     "metadata": {},
     "output_type": "execute_result"
    }
   ],
   "source": [
    "type(boston)"
   ]
  },
  {
   "cell_type": "code",
   "execution_count": 6,
   "id": "b1ce8aad",
   "metadata": {},
   "outputs": [
    {
     "data": {
      "text/plain": [
       "{'data': array([[6.3200e-03, 1.8000e+01, 2.3100e+00, ..., 1.5300e+01, 3.9690e+02,\n",
       "         4.9800e+00],\n",
       "        [2.7310e-02, 0.0000e+00, 7.0700e+00, ..., 1.7800e+01, 3.9690e+02,\n",
       "         9.1400e+00],\n",
       "        [2.7290e-02, 0.0000e+00, 7.0700e+00, ..., 1.7800e+01, 3.9283e+02,\n",
       "         4.0300e+00],\n",
       "        ...,\n",
       "        [6.0760e-02, 0.0000e+00, 1.1930e+01, ..., 2.1000e+01, 3.9690e+02,\n",
       "         5.6400e+00],\n",
       "        [1.0959e-01, 0.0000e+00, 1.1930e+01, ..., 2.1000e+01, 3.9345e+02,\n",
       "         6.4800e+00],\n",
       "        [4.7410e-02, 0.0000e+00, 1.1930e+01, ..., 2.1000e+01, 3.9690e+02,\n",
       "         7.8800e+00]]),\n",
       " 'target': array([24. , 21.6, 34.7, 33.4, 36.2, 28.7, 22.9, 27.1, 16.5, 18.9, 15. ,\n",
       "        18.9, 21.7, 20.4, 18.2, 19.9, 23.1, 17.5, 20.2, 18.2, 13.6, 19.6,\n",
       "        15.2, 14.5, 15.6, 13.9, 16.6, 14.8, 18.4, 21. , 12.7, 14.5, 13.2,\n",
       "        13.1, 13.5, 18.9, 20. , 21. , 24.7, 30.8, 34.9, 26.6, 25.3, 24.7,\n",
       "        21.2, 19.3, 20. , 16.6, 14.4, 19.4, 19.7, 20.5, 25. , 23.4, 18.9,\n",
       "        35.4, 24.7, 31.6, 23.3, 19.6, 18.7, 16. , 22.2, 25. , 33. , 23.5,\n",
       "        19.4, 22. , 17.4, 20.9, 24.2, 21.7, 22.8, 23.4, 24.1, 21.4, 20. ,\n",
       "        20.8, 21.2, 20.3, 28. , 23.9, 24.8, 22.9, 23.9, 26.6, 22.5, 22.2,\n",
       "        23.6, 28.7, 22.6, 22. , 22.9, 25. , 20.6, 28.4, 21.4, 38.7, 43.8,\n",
       "        33.2, 27.5, 26.5, 18.6, 19.3, 20.1, 19.5, 19.5, 20.4, 19.8, 19.4,\n",
       "        21.7, 22.8, 18.8, 18.7, 18.5, 18.3, 21.2, 19.2, 20.4, 19.3, 22. ,\n",
       "        20.3, 20.5, 17.3, 18.8, 21.4, 15.7, 16.2, 18. , 14.3, 19.2, 19.6,\n",
       "        23. , 18.4, 15.6, 18.1, 17.4, 17.1, 13.3, 17.8, 14. , 14.4, 13.4,\n",
       "        15.6, 11.8, 13.8, 15.6, 14.6, 17.8, 15.4, 21.5, 19.6, 15.3, 19.4,\n",
       "        17. , 15.6, 13.1, 41.3, 24.3, 23.3, 27. , 50. , 50. , 50. , 22.7,\n",
       "        25. , 50. , 23.8, 23.8, 22.3, 17.4, 19.1, 23.1, 23.6, 22.6, 29.4,\n",
       "        23.2, 24.6, 29.9, 37.2, 39.8, 36.2, 37.9, 32.5, 26.4, 29.6, 50. ,\n",
       "        32. , 29.8, 34.9, 37. , 30.5, 36.4, 31.1, 29.1, 50. , 33.3, 30.3,\n",
       "        34.6, 34.9, 32.9, 24.1, 42.3, 48.5, 50. , 22.6, 24.4, 22.5, 24.4,\n",
       "        20. , 21.7, 19.3, 22.4, 28.1, 23.7, 25. , 23.3, 28.7, 21.5, 23. ,\n",
       "        26.7, 21.7, 27.5, 30.1, 44.8, 50. , 37.6, 31.6, 46.7, 31.5, 24.3,\n",
       "        31.7, 41.7, 48.3, 29. , 24. , 25.1, 31.5, 23.7, 23.3, 22. , 20.1,\n",
       "        22.2, 23.7, 17.6, 18.5, 24.3, 20.5, 24.5, 26.2, 24.4, 24.8, 29.6,\n",
       "        42.8, 21.9, 20.9, 44. , 50. , 36. , 30.1, 33.8, 43.1, 48.8, 31. ,\n",
       "        36.5, 22.8, 30.7, 50. , 43.5, 20.7, 21.1, 25.2, 24.4, 35.2, 32.4,\n",
       "        32. , 33.2, 33.1, 29.1, 35.1, 45.4, 35.4, 46. , 50. , 32.2, 22. ,\n",
       "        20.1, 23.2, 22.3, 24.8, 28.5, 37.3, 27.9, 23.9, 21.7, 28.6, 27.1,\n",
       "        20.3, 22.5, 29. , 24.8, 22. , 26.4, 33.1, 36.1, 28.4, 33.4, 28.2,\n",
       "        22.8, 20.3, 16.1, 22.1, 19.4, 21.6, 23.8, 16.2, 17.8, 19.8, 23.1,\n",
       "        21. , 23.8, 23.1, 20.4, 18.5, 25. , 24.6, 23. , 22.2, 19.3, 22.6,\n",
       "        19.8, 17.1, 19.4, 22.2, 20.7, 21.1, 19.5, 18.5, 20.6, 19. , 18.7,\n",
       "        32.7, 16.5, 23.9, 31.2, 17.5, 17.2, 23.1, 24.5, 26.6, 22.9, 24.1,\n",
       "        18.6, 30.1, 18.2, 20.6, 17.8, 21.7, 22.7, 22.6, 25. , 19.9, 20.8,\n",
       "        16.8, 21.9, 27.5, 21.9, 23.1, 50. , 50. , 50. , 50. , 50. , 13.8,\n",
       "        13.8, 15. , 13.9, 13.3, 13.1, 10.2, 10.4, 10.9, 11.3, 12.3,  8.8,\n",
       "         7.2, 10.5,  7.4, 10.2, 11.5, 15.1, 23.2,  9.7, 13.8, 12.7, 13.1,\n",
       "        12.5,  8.5,  5. ,  6.3,  5.6,  7.2, 12.1,  8.3,  8.5,  5. , 11.9,\n",
       "        27.9, 17.2, 27.5, 15. , 17.2, 17.9, 16.3,  7. ,  7.2,  7.5, 10.4,\n",
       "         8.8,  8.4, 16.7, 14.2, 20.8, 13.4, 11.7,  8.3, 10.2, 10.9, 11. ,\n",
       "         9.5, 14.5, 14.1, 16.1, 14.3, 11.7, 13.4,  9.6,  8.7,  8.4, 12.8,\n",
       "        10.5, 17.1, 18.4, 15.4, 10.8, 11.8, 14.9, 12.6, 14.1, 13. , 13.4,\n",
       "        15.2, 16.1, 17.8, 14.9, 14.1, 12.7, 13.5, 14.9, 20. , 16.4, 17.7,\n",
       "        19.5, 20.2, 21.4, 19.9, 19. , 19.1, 19.1, 20.1, 19.9, 19.6, 23.2,\n",
       "        29.8, 13.8, 13.3, 16.7, 12. , 14.6, 21.4, 23. , 23.7, 25. , 21.8,\n",
       "        20.6, 21.2, 19.1, 20.6, 15.2,  7. ,  8.1, 13.6, 20.1, 21.8, 24.5,\n",
       "        23.1, 19.7, 18.3, 21.2, 17.5, 16.8, 22.4, 20.6, 23.9, 22. , 11.9]),\n",
       " 'feature_names': array(['CRIM', 'ZN', 'INDUS', 'CHAS', 'NOX', 'RM', 'AGE', 'DIS', 'RAD',\n",
       "        'TAX', 'PTRATIO', 'B', 'LSTAT'], dtype='<U7'),\n",
       " 'DESCR': \".. _boston_dataset:\\n\\nBoston house prices dataset\\n---------------------------\\n\\n**Data Set Characteristics:**  \\n\\n    :Number of Instances: 506 \\n\\n    :Number of Attributes: 13 numeric/categorical predictive. Median Value (attribute 14) is usually the target.\\n\\n    :Attribute Information (in order):\\n        - CRIM     per capita crime rate by town\\n        - ZN       proportion of residential land zoned for lots over 25,000 sq.ft.\\n        - INDUS    proportion of non-retail business acres per town\\n        - CHAS     Charles River dummy variable (= 1 if tract bounds river; 0 otherwise)\\n        - NOX      nitric oxides concentration (parts per 10 million)\\n        - RM       average number of rooms per dwelling\\n        - AGE      proportion of owner-occupied units built prior to 1940\\n        - DIS      weighted distances to five Boston employment centres\\n        - RAD      index of accessibility to radial highways\\n        - TAX      full-value property-tax rate per $10,000\\n        - PTRATIO  pupil-teacher ratio by town\\n        - B        1000(Bk - 0.63)^2 where Bk is the proportion of black people by town\\n        - LSTAT    % lower status of the population\\n        - MEDV     Median value of owner-occupied homes in $1000's\\n\\n    :Missing Attribute Values: None\\n\\n    :Creator: Harrison, D. and Rubinfeld, D.L.\\n\\nThis is a copy of UCI ML housing dataset.\\nhttps://archive.ics.uci.edu/ml/machine-learning-databases/housing/\\n\\n\\nThis dataset was taken from the StatLib library which is maintained at Carnegie Mellon University.\\n\\nThe Boston house-price data of Harrison, D. and Rubinfeld, D.L. 'Hedonic\\nprices and the demand for clean air', J. Environ. Economics & Management,\\nvol.5, 81-102, 1978.   Used in Belsley, Kuh & Welsch, 'Regression diagnostics\\n...', Wiley, 1980.   N.B. Various transformations are used in the table on\\npages 244-261 of the latter.\\n\\nThe Boston house-price data has been used in many machine learning papers that address regression\\nproblems.   \\n     \\n.. topic:: References\\n\\n   - Belsley, Kuh & Welsch, 'Regression diagnostics: Identifying Influential Data and Sources of Collinearity', Wiley, 1980. 244-261.\\n   - Quinlan,R. (1993). Combining Instance-Based and Model-Based Learning. In Proceedings on the Tenth International Conference of Machine Learning, 236-243, University of Massachusetts, Amherst. Morgan Kaufmann.\\n\",\n",
       " 'filename': 'boston_house_prices.csv',\n",
       " 'data_module': 'sklearn.datasets.data'}"
      ]
     },
     "execution_count": 6,
     "metadata": {},
     "output_type": "execute_result"
    }
   ],
   "source": [
    "boston"
   ]
  },
  {
   "cell_type": "code",
   "execution_count": 7,
   "id": "ee89d48e",
   "metadata": {},
   "outputs": [
    {
     "name": "stdout",
     "output_type": "stream",
     "text": [
      "(506, 13)\n",
      "(506,)\n"
     ]
    }
   ],
   "source": [
    "X = boston.data\n",
    "Y = boston.target\n",
    "print(X.shape)\n",
    "print(Y.shape)"
   ]
  },
  {
   "cell_type": "code",
   "execution_count": 8,
   "id": "9604dc66",
   "metadata": {},
   "outputs": [
    {
     "name": "stdout",
     "output_type": "stream",
     "text": [
      "['CRIM' 'ZN' 'INDUS' 'CHAS' 'NOX' 'RM' 'AGE' 'DIS' 'RAD' 'TAX' 'PTRATIO'\n",
      " 'B' 'LSTAT']\n"
     ]
    }
   ],
   "source": [
    "df = pd.DataFrame(X) # Putting dataset into dataframe\n",
    "print(boston.feature_names)\n",
    "df.columns = boston.feature_names"
   ]
  },
  {
   "cell_type": "code",
   "execution_count": 9,
   "id": "864b525a",
   "metadata": {},
   "outputs": [
    {
     "data": {
      "text/html": [
       "<div>\n",
       "<style scoped>\n",
       "    .dataframe tbody tr th:only-of-type {\n",
       "        vertical-align: middle;\n",
       "    }\n",
       "\n",
       "    .dataframe tbody tr th {\n",
       "        vertical-align: top;\n",
       "    }\n",
       "\n",
       "    .dataframe thead th {\n",
       "        text-align: right;\n",
       "    }\n",
       "</style>\n",
       "<table border=\"1\" class=\"dataframe\">\n",
       "  <thead>\n",
       "    <tr style=\"text-align: right;\">\n",
       "      <th></th>\n",
       "      <th>CRIM</th>\n",
       "      <th>ZN</th>\n",
       "      <th>INDUS</th>\n",
       "      <th>CHAS</th>\n",
       "      <th>NOX</th>\n",
       "      <th>RM</th>\n",
       "      <th>AGE</th>\n",
       "      <th>DIS</th>\n",
       "      <th>RAD</th>\n",
       "      <th>TAX</th>\n",
       "      <th>PTRATIO</th>\n",
       "      <th>B</th>\n",
       "      <th>LSTAT</th>\n",
       "    </tr>\n",
       "  </thead>\n",
       "  <tbody>\n",
       "    <tr>\n",
       "      <th>count</th>\n",
       "      <td>506.000000</td>\n",
       "      <td>506.000000</td>\n",
       "      <td>506.000000</td>\n",
       "      <td>506.000000</td>\n",
       "      <td>506.000000</td>\n",
       "      <td>506.000000</td>\n",
       "      <td>506.000000</td>\n",
       "      <td>506.000000</td>\n",
       "      <td>506.000000</td>\n",
       "      <td>506.000000</td>\n",
       "      <td>506.000000</td>\n",
       "      <td>506.000000</td>\n",
       "      <td>506.000000</td>\n",
       "    </tr>\n",
       "    <tr>\n",
       "      <th>mean</th>\n",
       "      <td>3.613524</td>\n",
       "      <td>11.363636</td>\n",
       "      <td>11.136779</td>\n",
       "      <td>0.069170</td>\n",
       "      <td>0.554695</td>\n",
       "      <td>6.284634</td>\n",
       "      <td>68.574901</td>\n",
       "      <td>3.795043</td>\n",
       "      <td>9.549407</td>\n",
       "      <td>408.237154</td>\n",
       "      <td>18.455534</td>\n",
       "      <td>356.674032</td>\n",
       "      <td>12.653063</td>\n",
       "    </tr>\n",
       "    <tr>\n",
       "      <th>std</th>\n",
       "      <td>8.601545</td>\n",
       "      <td>23.322453</td>\n",
       "      <td>6.860353</td>\n",
       "      <td>0.253994</td>\n",
       "      <td>0.115878</td>\n",
       "      <td>0.702617</td>\n",
       "      <td>28.148861</td>\n",
       "      <td>2.105710</td>\n",
       "      <td>8.707259</td>\n",
       "      <td>168.537116</td>\n",
       "      <td>2.164946</td>\n",
       "      <td>91.294864</td>\n",
       "      <td>7.141062</td>\n",
       "    </tr>\n",
       "    <tr>\n",
       "      <th>min</th>\n",
       "      <td>0.006320</td>\n",
       "      <td>0.000000</td>\n",
       "      <td>0.460000</td>\n",
       "      <td>0.000000</td>\n",
       "      <td>0.385000</td>\n",
       "      <td>3.561000</td>\n",
       "      <td>2.900000</td>\n",
       "      <td>1.129600</td>\n",
       "      <td>1.000000</td>\n",
       "      <td>187.000000</td>\n",
       "      <td>12.600000</td>\n",
       "      <td>0.320000</td>\n",
       "      <td>1.730000</td>\n",
       "    </tr>\n",
       "    <tr>\n",
       "      <th>25%</th>\n",
       "      <td>0.082045</td>\n",
       "      <td>0.000000</td>\n",
       "      <td>5.190000</td>\n",
       "      <td>0.000000</td>\n",
       "      <td>0.449000</td>\n",
       "      <td>5.885500</td>\n",
       "      <td>45.025000</td>\n",
       "      <td>2.100175</td>\n",
       "      <td>4.000000</td>\n",
       "      <td>279.000000</td>\n",
       "      <td>17.400000</td>\n",
       "      <td>375.377500</td>\n",
       "      <td>6.950000</td>\n",
       "    </tr>\n",
       "    <tr>\n",
       "      <th>50%</th>\n",
       "      <td>0.256510</td>\n",
       "      <td>0.000000</td>\n",
       "      <td>9.690000</td>\n",
       "      <td>0.000000</td>\n",
       "      <td>0.538000</td>\n",
       "      <td>6.208500</td>\n",
       "      <td>77.500000</td>\n",
       "      <td>3.207450</td>\n",
       "      <td>5.000000</td>\n",
       "      <td>330.000000</td>\n",
       "      <td>19.050000</td>\n",
       "      <td>391.440000</td>\n",
       "      <td>11.360000</td>\n",
       "    </tr>\n",
       "    <tr>\n",
       "      <th>75%</th>\n",
       "      <td>3.677083</td>\n",
       "      <td>12.500000</td>\n",
       "      <td>18.100000</td>\n",
       "      <td>0.000000</td>\n",
       "      <td>0.624000</td>\n",
       "      <td>6.623500</td>\n",
       "      <td>94.075000</td>\n",
       "      <td>5.188425</td>\n",
       "      <td>24.000000</td>\n",
       "      <td>666.000000</td>\n",
       "      <td>20.200000</td>\n",
       "      <td>396.225000</td>\n",
       "      <td>16.955000</td>\n",
       "    </tr>\n",
       "    <tr>\n",
       "      <th>max</th>\n",
       "      <td>88.976200</td>\n",
       "      <td>100.000000</td>\n",
       "      <td>27.740000</td>\n",
       "      <td>1.000000</td>\n",
       "      <td>0.871000</td>\n",
       "      <td>8.780000</td>\n",
       "      <td>100.000000</td>\n",
       "      <td>12.126500</td>\n",
       "      <td>24.000000</td>\n",
       "      <td>711.000000</td>\n",
       "      <td>22.000000</td>\n",
       "      <td>396.900000</td>\n",
       "      <td>37.970000</td>\n",
       "    </tr>\n",
       "  </tbody>\n",
       "</table>\n",
       "</div>"
      ],
      "text/plain": [
       "             CRIM          ZN       INDUS        CHAS         NOX          RM  \\\n",
       "count  506.000000  506.000000  506.000000  506.000000  506.000000  506.000000   \n",
       "mean     3.613524   11.363636   11.136779    0.069170    0.554695    6.284634   \n",
       "std      8.601545   23.322453    6.860353    0.253994    0.115878    0.702617   \n",
       "min      0.006320    0.000000    0.460000    0.000000    0.385000    3.561000   \n",
       "25%      0.082045    0.000000    5.190000    0.000000    0.449000    5.885500   \n",
       "50%      0.256510    0.000000    9.690000    0.000000    0.538000    6.208500   \n",
       "75%      3.677083   12.500000   18.100000    0.000000    0.624000    6.623500   \n",
       "max     88.976200  100.000000   27.740000    1.000000    0.871000    8.780000   \n",
       "\n",
       "              AGE         DIS         RAD         TAX     PTRATIO           B  \\\n",
       "count  506.000000  506.000000  506.000000  506.000000  506.000000  506.000000   \n",
       "mean    68.574901    3.795043    9.549407  408.237154   18.455534  356.674032   \n",
       "std     28.148861    2.105710    8.707259  168.537116    2.164946   91.294864   \n",
       "min      2.900000    1.129600    1.000000  187.000000   12.600000    0.320000   \n",
       "25%     45.025000    2.100175    4.000000  279.000000   17.400000  375.377500   \n",
       "50%     77.500000    3.207450    5.000000  330.000000   19.050000  391.440000   \n",
       "75%     94.075000    5.188425   24.000000  666.000000   20.200000  396.225000   \n",
       "max    100.000000   12.126500   24.000000  711.000000   22.000000  396.900000   \n",
       "\n",
       "            LSTAT  \n",
       "count  506.000000  \n",
       "mean    12.653063  \n",
       "std      7.141062  \n",
       "min      1.730000  \n",
       "25%      6.950000  \n",
       "50%     11.360000  \n",
       "75%     16.955000  \n",
       "max     37.970000  "
      ]
     },
     "execution_count": 9,
     "metadata": {},
     "output_type": "execute_result"
    }
   ],
   "source": [
    "df.describe()"
   ]
  },
  {
   "cell_type": "code",
   "execution_count": 10,
   "id": "0e6d3846",
   "metadata": {},
   "outputs": [
    {
     "data": {
      "text/plain": [
       "\".. _boston_dataset:\\n\\nBoston house prices dataset\\n---------------------------\\n\\n**Data Set Characteristics:**  \\n\\n    :Number of Instances: 506 \\n\\n    :Number of Attributes: 13 numeric/categorical predictive. Median Value (attribute 14) is usually the target.\\n\\n    :Attribute Information (in order):\\n        - CRIM     per capita crime rate by town\\n        - ZN       proportion of residential land zoned for lots over 25,000 sq.ft.\\n        - INDUS    proportion of non-retail business acres per town\\n        - CHAS     Charles River dummy variable (= 1 if tract bounds river; 0 otherwise)\\n        - NOX      nitric oxides concentration (parts per 10 million)\\n        - RM       average number of rooms per dwelling\\n        - AGE      proportion of owner-occupied units built prior to 1940\\n        - DIS      weighted distances to five Boston employment centres\\n        - RAD      index of accessibility to radial highways\\n        - TAX      full-value property-tax rate per $10,000\\n        - PTRATIO  pupil-teacher ratio by town\\n        - B        1000(Bk - 0.63)^2 where Bk is the proportion of black people by town\\n        - LSTAT    % lower status of the population\\n        - MEDV     Median value of owner-occupied homes in $1000's\\n\\n    :Missing Attribute Values: None\\n\\n    :Creator: Harrison, D. and Rubinfeld, D.L.\\n\\nThis is a copy of UCI ML housing dataset.\\nhttps://archive.ics.uci.edu/ml/machine-learning-databases/housing/\\n\\n\\nThis dataset was taken from the StatLib library which is maintained at Carnegie Mellon University.\\n\\nThe Boston house-price data of Harrison, D. and Rubinfeld, D.L. 'Hedonic\\nprices and the demand for clean air', J. Environ. Economics & Management,\\nvol.5, 81-102, 1978.   Used in Belsley, Kuh & Welsch, 'Regression diagnostics\\n...', Wiley, 1980.   N.B. Various transformations are used in the table on\\npages 244-261 of the latter.\\n\\nThe Boston house-price data has been used in many machine learning papers that address regression\\nproblems.   \\n     \\n.. topic:: References\\n\\n   - Belsley, Kuh & Welsch, 'Regression diagnostics: Identifying Influential Data and Sources of Collinearity', Wiley, 1980. 244-261.\\n   - Quinlan,R. (1993). Combining Instance-Based and Model-Based Learning. In Proceedings on the Tenth International Conference of Machine Learning, 236-243, University of Massachusetts, Amherst. Morgan Kaufmann.\\n\""
      ]
     },
     "execution_count": 10,
     "metadata": {},
     "output_type": "execute_result"
    }
   ],
   "source": [
    "boston.DESCR # describe features ex- what is CRIM, ZN,...\n",
    "# So, we need to understand this features inorder to use it (or not) in model"
   ]
  },
  {
   "cell_type": "code",
   "execution_count": 11,
   "id": "27d6b2cd",
   "metadata": {},
   "outputs": [
    {
     "name": "stdout",
     "output_type": "stream",
     "text": [
      "[[2.31390e+00 0.00000e+00 1.95800e+01 ... 1.47000e+01 3.48130e+02\n",
      "  1.20300e+01]\n",
      " [8.22100e-02 2.20000e+01 5.86000e+00 ... 1.91000e+01 3.86090e+02\n",
      "  3.53000e+00]\n",
      " [2.21880e-01 2.00000e+01 6.96000e+00 ... 1.86000e+01 3.90770e+02\n",
      "  6.58000e+00]\n",
      " ...\n",
      " [8.52040e-01 0.00000e+00 8.14000e+00 ... 2.10000e+01 3.92530e+02\n",
      "  1.38300e+01]\n",
      " [2.22120e-01 0.00000e+00 1.00100e+01 ... 1.78000e+01 3.96900e+02\n",
      "  1.70900e+01]\n",
      " [5.09017e+00 0.00000e+00 1.81000e+01 ... 2.02000e+01 3.85090e+02\n",
      "  1.72700e+01]]\n",
      "[[2.43938e+01 0.00000e+00 1.81000e+01 ... 2.02000e+01 3.96900e+02\n",
      "  2.82800e+01]\n",
      " [9.26600e-02 3.40000e+01 6.09000e+00 ... 1.61000e+01 3.83610e+02\n",
      "  8.67000e+00]\n",
      " [2.59406e+01 0.00000e+00 1.81000e+01 ... 2.02000e+01 1.27360e+02\n",
      "  2.66400e+01]\n",
      " ...\n",
      " [5.37200e-02 0.00000e+00 1.39200e+01 ... 1.60000e+01 3.92850e+02\n",
      "  7.39000e+00]\n",
      " [1.46336e+00 0.00000e+00 1.95800e+01 ... 1.47000e+01 3.74430e+02\n",
      "  1.73000e+00]\n",
      " [2.98500e-02 0.00000e+00 2.18000e+00 ... 1.87000e+01 3.94120e+02\n",
      "  5.21000e+00]]\n",
      "[19.1 29.6 35.2 33.4 36.1 34.6 30.1 31.5  9.5 20.6 21.  27.9 22.6 19.4\n",
      " 23.9 41.7 19.5 14.3 22.2 18.6  9.7 10.9 50.  17.5 19.5 16.  27.1 26.7\n",
      " 21.4 26.5 22.6 23.1 10.9 25.  20.4 31.1 13.6 19.1 22.9  5.  34.9 24.1\n",
      " 21.6 18.9 48.5 17.1 23.8 29.  22.  12.7 43.5 24.  23.8 20.  22.4 27.5\n",
      " 50.  26.6 21.4 23.  13.4  8.5 24.8 24.7 21.1 17.4 15.6 20.3 21.4 14.5\n",
      " 37.3 33.3 30.3 12.3 15.2 24.7 21.7 13.1 20.5 12.7 20.6 23.1 15.2 30.1\n",
      " 50.  13.3 18.4 11.5 50.  13.6 43.8 32.9 20.3 37.2 20.2 22.8 24.1 19.8\n",
      " 25.  13.1 23.8 19.9 32.  22.  19.5  8.8 18.6 16.3 22.8 37.6 21.7 20.4\n",
      " 16.2 16.7 24.1 32.  26.6 22.  28.4  7.2 25.1 23.4 21.5 20.8 20.  28.7\n",
      " 13.2 37.  20.5 32.7 22.5 24.5 11.9 24.5 19.6 18.8 50.  14.9 36.4 24.7\n",
      " 24.3 50.  30.7 20.  21.5  5.6 19.3 23.2 18.9 18.7 13.5 28.2 42.3 12.5\n",
      " 18.5 22.5 20.4 15.2 19.3 14.9 24.4 14.6 21.7 10.2 23.  13.9 17.9 25.2\n",
      " 18.7 29.1 10.5 25.  25.  16.1 19.1 15.6 36.5 23.3 18.3 22.1 24.2 18.\n",
      " 35.4 13.4 18.5 20.7 13.9 13.8 20.  13.8 13.8 14.  21.  17.8 26.4 21.8\n",
      " 22.6 21.2 32.2 13.3 22.9 34.7 29.8 22.9 25.  11.8 34.9 21.9 19.4 50.\n",
      " 36.2 20.1  8.7 21.4  8.3 12.7 22.8 20.7 19.7 12.6 13.1 16.5 15.7 15.\n",
      " 20.3 22.4 19.4 15.6 14.5 21.9 35.4 45.4 30.8 28.5  6.3 14.2 26.2 16.7\n",
      " 18.1 19.8 18.4 16.5 21.2 23.9 12.1 19.  19.3 50.  16.4 23.1 20.8 23.3\n",
      " 19.4 38.7 29.8 21.1 26.6 14.4 15.3 46.7 27.9 18.5 15.4 19.2 18.3 42.8\n",
      " 20.1 22.3  7.2 24.4 18.2 50.  20.9 31.5 24.4 44.8 21.7  8.4 23.9 21.4\n",
      " 22.2 33.1 23.1 20.4 17.2 23.2 33.2 12.8  8.5 16.8 11.7 30.1 28.   7.2\n",
      " 50.   9.6 10.8 21.2 20.9 12.  22.2 29.4 13.8 50.  14.8 29.9 14.4 24.8\n",
      " 31.6 23.2 29.6 19.4 11.8 18.4 27.  16.2 25.   8.3 27.5 22.3  7.  21.7\n",
      " 13.8 23.2  7.4 28.1 19.3 19.6 23.6 23.7 33.1 15.6 13.4  8.1 22.8 20.1\n",
      " 25.  23.9 29.1  7.5  8.8 15.1 19.5 14.9 36.  24.3 18.5  5.  23.7 17.8\n",
      " 23.1 17.1 16.8 44.  24.8 17.8 17.1 22.7 15.  18.9 17.8 22.7 34.9 20.5\n",
      " 20.6 31.6 50.  22.2 33.  23.  29.  10.4 14.1 19.4 24.4 14.5 19.6 18.7\n",
      " 16.1]\n",
      "[10.5 26.4 10.4 33.2 19.1 25.3 15.  20.6 20.  24.  23.7 50.  19.6 17.2\n",
      " 25.  17.3 23.3 22.2 20.8 21.2 32.5 23.1 24.6 41.3 13.  13.4 31.  16.1\n",
      " 22.6 17.5  8.4 31.2 21.6 23.3 37.9 22.  23.6 33.4 14.6 19.2 19.9 16.6\n",
      " 48.8 13.5 50.  22.9 50.  30.5 23.8 22.  46.  13.1 19.6 39.8 22.  27.5\n",
      " 11.7 43.1 21.9 19.9 24.3 24.8 17.  19.  20.3 24.6 33.8 31.7 17.4 11.\n",
      " 23.5 20.1 10.2 24.5 36.2 19.7 23.1 21.7 21.7 23.7 20.2 14.1 18.9 13.3\n",
      " 35.1 23.  14.3 17.4 17.6 15.4 14.1 17.7 11.9 17.5 20.1 28.4 23.4 19.9\n",
      " 19.8 17.2 21.8 18.8 18.2 18.2 23.9  7.  19.3 22.5 32.4 16.6 15.6 22.\n",
      " 27.5 20.6 28.6 48.3 21.  17.8 21.2 20.6 22.6 10.2 11.3 28.7 27.1 50.\n",
      " 28.7]\n"
     ]
    }
   ],
   "source": [
    "# While spliting data into train & test, we make sure it don't have any bias-ness. therefore we pick \n",
    "# Random data set, coz it's possible that data is chronogically order.\n",
    "from sklearn import model_selection\n",
    "X_train, X_test, Y_train, Y_test = model_selection.train_test_split(X, Y)\n",
    "print(X_train)\n",
    "print(X_test)\n",
    "\n",
    "print(Y_train)\n",
    "print(Y_test)"
   ]
  },
  {
   "cell_type": "code",
   "execution_count": 12,
   "id": "5e76dabe",
   "metadata": {},
   "outputs": [
    {
     "name": "stdout",
     "output_type": "stream",
     "text": [
      "(379, 13)\n",
      "(127, 13)\n",
      "(379,)\n",
      "(127,)\n"
     ]
    }
   ],
   "source": [
    "# By default 75% = train, 25% = test\n",
    "print(X_train.shape) # INPUT for train\n",
    "print(X_test.shape) # INPUT for test\n",
    "\n",
    "print(Y_train.shape) # OUTPUT for train\n",
    "print(Y_test.shape) # OUTPUT for test"
   ]
  },
  {
   "cell_type": "code",
   "execution_count": 13,
   "id": "1457cf08",
   "metadata": {},
   "outputs": [],
   "source": [
    "from sklearn.linear_model import LinearRegression\n",
    "alg1 = LinearRegression() # algorithm object to train & test our data"
   ]
  },
  {
   "cell_type": "code",
   "execution_count": 14,
   "id": "ea7f5b75",
   "metadata": {},
   "outputs": [
    {
     "data": {
      "text/plain": [
       "LinearRegression()"
      ]
     },
     "execution_count": 14,
     "metadata": {},
     "output_type": "execute_result"
    }
   ],
   "source": [
    "alg1.fit(X_train, Y_train) # algo will learn from training data"
   ]
  },
  {
   "cell_type": "code",
   "execution_count": 15,
   "id": "18e474c3",
   "metadata": {},
   "outputs": [],
   "source": [
    "Y_predicted = alg1.predict(X_test)"
   ]
  },
  {
   "cell_type": "code",
   "execution_count": 16,
   "id": "74537f98",
   "metadata": {},
   "outputs": [
    {
     "data": {
      "image/png": "[encoded data removed]",
      "text/plain": [
       "<Figure size 432x288 with 1 Axes>"
      ]
     },
     "metadata": {
      "needs_background": "light"
     },
     "output_type": "display_data"
    }
   ],
   "source": [
    "# Check wheather model is good or bad, we gonna compare Y_predicted(algo output) & Y_test(Actual output)\n",
    "import matplotlib.pyplot as plt\n",
    "plt.scatter(Y_test, Y_predicted)\n",
    "plt.axis([0,50,0,50]) # defining axis length of x-axis & y-axis as same \n",
    "\n",
    "plt.show()\n",
    "# So, for any point represent (X_test, Y_predicted) actual value on x-axis & predicted value on y-axis"
   ]
  },
  {
   "cell_type": "code",
   "execution_count": 17,
   "id": "7a53a9a7",
   "metadata": {},
   "outputs": [
    {
     "data": {
      "text/plain": [
       "(100, 2)"
      ]
     },
     "execution_count": 17,
     "metadata": {},
     "output_type": "execute_result"
    }
   ],
   "source": [
    "arr = np.loadtxt(\"data.csv\", delimiter = \",\")\n",
    "arr.shape # two column : X(feature) & Y(output)"
   ]
  },
  {
   "cell_type": "code",
   "execution_count": 18,
   "id": "819c167e",
   "metadata": {},
   "outputs": [
    {
     "data": {
      "text/plain": [
       "(100, 1)"
      ]
     },
     "execution_count": 18,
     "metadata": {},
     "output_type": "execute_result"
    }
   ],
   "source": [
    "# train_test_split takes 2D array => we need to convert x & y into 2D \n",
    "x = arr[:, 0].reshape(-1,1) # It will have 1 column(coz only one feature) & accordingly have rows\n",
    "y = arr[:, 1]\n",
    "x.shape # w/o reshape it would return 1D array"
   ]
  },
  {
   "cell_type": "code",
   "execution_count": 19,
   "id": "e026345c",
   "metadata": {},
   "outputs": [],
   "source": [
    "x_train, x_test, y_train, y_test = model_selection.train_test_split(x, y, test_size = 0.25)\n",
    "# train_test_split takes random data => we get different slope & intercept each time we run it. \n",
    "alg1.fit(x_train,y_train)\n",
    "y_predicted = alg1.predict(x_test)"
   ]
  },
  {
   "cell_type": "code",
   "execution_count": 20,
   "id": "5eb14a81",
   "metadata": {},
   "outputs": [
    {
     "name": "stdout",
     "output_type": "stream",
     "text": [
      "[1.416244]\n",
      "3.1986632445041607\n",
      "<class 'numpy.ndarray'>\n",
      "<class 'numpy.float64'>\n"
     ]
    }
   ],
   "source": [
    "print(alg1.coef_) # return slope\n",
    "print(alg1.intercept_) # return intercept\n",
    "print(type(alg1.coef_))\n",
    "print(type(alg1.intercept_))"
   ]
  },
  {
   "cell_type": "code",
   "execution_count": 21,
   "id": "d9a9bd7f",
   "metadata": {},
   "outputs": [],
   "source": [
    "# We gonna plot y = mx + c\n",
    "m = alg1.coef_[0] # Since its n-D array\n",
    "c = alg1.intercept_ # It's just float"
   ]
  },
  {
   "cell_type": "code",
   "execution_count": 22,
   "id": "93973167",
   "metadata": {},
   "outputs": [
    {
     "data": {
      "image/png": "[encoded data removed]",
      "text/plain": [
       "<Figure size 432x288 with 1 Axes>"
      ]
     },
     "metadata": {
      "needs_background": "light"
     },
     "output_type": "display_data"
    }
   ],
   "source": [
    "plt.scatter(x_train, y_train) # scattering training data points\n",
    "x_line = np.arange(20, 80, 1) # assuming some x to make regression line\n",
    "# 20 is taken coz it's ~ to min scatter point & 80 ~ max_scatter point\n",
    "y_line = m * x_line + c # find y for those x\n",
    "plt.plot(x_line, y_line, color = 'red') # Note : axis isn't starting from 0, coz intercept c = 10...\n",
    "plt.show() "
   ]
  },
  {
   "cell_type": "code",
   "execution_count": 23,
   "id": "58bb66d2",
   "metadata": {},
   "outputs": [
    {
     "data": {
      "image/png": "[encoded data removed]",
      "text/plain": [
       "<Figure size 432x288 with 1 Axes>"
      ]
     },
     "metadata": {
      "needs_background": "light"
     },
     "output_type": "display_data"
    }
   ],
   "source": [
    "# regression line test on testing data\n",
    "plt.scatter(x_test, y_test) \n",
    "x_line = np.arange(30, 70, 1) \n",
    "y_line = m * x_line + c\n",
    "plt.plot(x_line, y_line, color = 'red') \n",
    "plt.show() \n",
    "# For any scatter point (a,b) a = features value , b = actual value, and on line it's predicted value"
   ]
  },
  {
   "cell_type": "code",
   "execution_count": 24,
   "id": "28e9d591",
   "metadata": {},
   "outputs": [
    {
     "data": {
      "text/plain": [
       "'For data with 1 we can plot a 2D graph & for 2 features we can use 3D graph (including output)\\ndata for more than two features can\\'t be plotted => We need a method to check performance of model\\n\\nWe use \"COEFFICENT OF DETERMENATION(R^2)\" for that purpose\\nR2 = 1 – (RSS/TSS)\\nWhere, RSS = Residuals sum of squares, TSS = Total sum of squares\\n1. higher the coefficent => better it is, & it will lies in [0,1]\\n2. If R2 = 0, then the dependent variable cannot be predicted from the independent variable.\\n3. If R2 = 1, then the dependent variable can be predicted from the independent variable without any error.\\n4. R2 a.k.a square of correlation '"
      ]
     },
     "execution_count": 24,
     "metadata": {},
     "output_type": "execute_result"
    }
   ],
   "source": [
    "\"\"\"For data with 1 we can plot a 2D graph & for 2 features we can use 3D graph (including output)\n",
    "data for more than two features can't be plotted => We need a method to check performance of model\n",
    "\n",
    "We use \"COEFFICENT OF DETERMENATION(R^2)\" for that purpose\n",
    "R2 = 1 – (RSS/TSS)\n",
    "Where, RSS = Residuals sum of squares, TSS = Total sum of squares\n",
    "1. higher the coefficent => better it is, & it will lies in [0,1]\n",
    "2. If R2 = 0, then the dependent variable cannot be predicted from the independent variable.\n",
    "3. If R2 = 1, then the dependent variable can be predicted from the independent variable without any error.\n",
    "4. R2 a.k.a square of correlation \"\"\""
   ]
  },
  {
   "cell_type": "code",
   "execution_count": 25,
   "id": "126f80b1",
   "metadata": {},
   "outputs": [
    {
     "name": "stdout",
     "output_type": "stream",
     "text": [
      "0.4460884980730414\n"
     ]
    }
   ],
   "source": [
    "# There is a function in sklearn to find R^2 : \"score()\"\n",
    "score_train = alg1.score(x_test, y_test) \n",
    "# It will take x_test and apply alg1 to it & find y_pred & we already have y_test(actual value for x_test)\n",
    "print(score_train) # It varies for different test set\n",
    "# Sometime R^2 = 0.6 is sufficently good sometime even 0.9 not sufficent, it depends on data"
   ]
  },
  {
   "cell_type": "code",
   "execution_count": null,
   "id": "7ad7afeb",
   "metadata": {},
   "outputs": [],
   "source": []
  }
 ],
 "metadata": {
  "kernelspec": {
   "display_name": "Python 3 (ipykernel)",
   "language": "python",
   "name": "python3"
  },
  "language_info": {
   "codemirror_mode": {
    "name": "ipython",
    "version": 3
   },
   "file_extension": ".py",
   "mimetype": "text/x-python",
   "name": "python",
   "nbconvert_exporter": "python",
   "pygments_lexer": "ipython3",
   "version": "3.8.10"
  }
 },
 "nbformat": 4,
 "nbformat_minor": 5
}
