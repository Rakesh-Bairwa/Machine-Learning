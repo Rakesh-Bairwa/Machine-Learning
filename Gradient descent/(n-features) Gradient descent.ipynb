{
 "cells": [
  {
   "cell_type": "markdown",
   "id": "c3bc2351",
   "metadata": {},
   "source": [
    "### Data filtering & cleaning"
   ]
  },
  {
   "cell_type": "code",
   "execution_count": 1,
   "id": "b738bece",
   "metadata": {},
   "outputs": [],
   "source": [
    "import numpy as np\n",
    "import pandas as pd"
   ]
  },
  {
   "cell_type": "code",
   "execution_count": 2,
   "id": "fb1babc1",
   "metadata": {},
   "outputs": [],
   "source": [
    "data = pd.read_csv(\"Gradient Descent/insurance.csv\")"
   ]
  },
  {
   "cell_type": "code",
   "execution_count": 3,
   "id": "453c61d8",
   "metadata": {},
   "outputs": [
    {
     "data": {
      "text/plain": [
       "(1338, 7)"
      ]
     },
     "execution_count": 3,
     "metadata": {},
     "output_type": "execute_result"
    }
   ],
   "source": [
    "data.shape"
   ]
  },
  {
   "cell_type": "code",
   "execution_count": 4,
   "id": "84fca5d4",
   "metadata": {},
   "outputs": [
    {
     "data": {
      "text/html": [
       "<div>\n",
       "<style scoped>\n",
       "    .dataframe tbody tr th:only-of-type {\n",
       "        vertical-align: middle;\n",
       "    }\n",
       "\n",
       "    .dataframe tbody tr th {\n",
       "        vertical-align: top;\n",
       "    }\n",
       "\n",
       "    .dataframe thead th {\n",
       "        text-align: right;\n",
       "    }\n",
       "</style>\n",
       "<table border=\"1\" class=\"dataframe\">\n",
       "  <thead>\n",
       "    <tr style=\"text-align: right;\">\n",
       "      <th></th>\n",
       "      <th>age</th>\n",
       "      <th>sex</th>\n",
       "      <th>bmi</th>\n",
       "      <th>children</th>\n",
       "      <th>smoker</th>\n",
       "      <th>region</th>\n",
       "      <th>charges</th>\n",
       "    </tr>\n",
       "  </thead>\n",
       "  <tbody>\n",
       "    <tr>\n",
       "      <th>0</th>\n",
       "      <td>19</td>\n",
       "      <td>female</td>\n",
       "      <td>27.900</td>\n",
       "      <td>0</td>\n",
       "      <td>yes</td>\n",
       "      <td>southwest</td>\n",
       "      <td>16884.92400</td>\n",
       "    </tr>\n",
       "    <tr>\n",
       "      <th>1</th>\n",
       "      <td>18</td>\n",
       "      <td>male</td>\n",
       "      <td>33.770</td>\n",
       "      <td>1</td>\n",
       "      <td>no</td>\n",
       "      <td>southeast</td>\n",
       "      <td>1725.55230</td>\n",
       "    </tr>\n",
       "    <tr>\n",
       "      <th>2</th>\n",
       "      <td>28</td>\n",
       "      <td>male</td>\n",
       "      <td>33.000</td>\n",
       "      <td>3</td>\n",
       "      <td>no</td>\n",
       "      <td>southeast</td>\n",
       "      <td>4449.46200</td>\n",
       "    </tr>\n",
       "    <tr>\n",
       "      <th>3</th>\n",
       "      <td>33</td>\n",
       "      <td>male</td>\n",
       "      <td>22.705</td>\n",
       "      <td>0</td>\n",
       "      <td>no</td>\n",
       "      <td>northwest</td>\n",
       "      <td>21984.47061</td>\n",
       "    </tr>\n",
       "    <tr>\n",
       "      <th>4</th>\n",
       "      <td>32</td>\n",
       "      <td>male</td>\n",
       "      <td>28.880</td>\n",
       "      <td>0</td>\n",
       "      <td>no</td>\n",
       "      <td>northwest</td>\n",
       "      <td>3866.85520</td>\n",
       "    </tr>\n",
       "  </tbody>\n",
       "</table>\n",
       "</div>"
      ],
      "text/plain": [
       "   age     sex     bmi  children smoker     region      charges\n",
       "0   19  female  27.900         0    yes  southwest  16884.92400\n",
       "1   18    male  33.770         1     no  southeast   1725.55230\n",
       "2   28    male  33.000         3     no  southeast   4449.46200\n",
       "3   33    male  22.705         0     no  northwest  21984.47061\n",
       "4   32    male  28.880         0     no  northwest   3866.85520"
      ]
     },
     "execution_count": 4,
     "metadata": {},
     "output_type": "execute_result"
    }
   ],
   "source": [
    "data.head()"
   ]
  },
  {
   "cell_type": "code",
   "execution_count": 5,
   "id": "9c693656",
   "metadata": {},
   "outputs": [
    {
     "data": {
      "text/plain": [
       "age           int64\n",
       "sex          object\n",
       "bmi         float64\n",
       "children      int64\n",
       "smoker       object\n",
       "region       object\n",
       "charges     float64\n",
       "dtype: object"
      ]
     },
     "execution_count": 5,
     "metadata": {},
     "output_type": "execute_result"
    }
   ],
   "source": [
    "data.dtypes"
   ]
  },
  {
   "cell_type": "code",
   "execution_count": 6,
   "id": "e3305d86",
   "metadata": {},
   "outputs": [
    {
     "data": {
      "text/plain": [
       "age         0\n",
       "sex         0\n",
       "bmi         0\n",
       "children    0\n",
       "smoker      0\n",
       "region      0\n",
       "charges     0\n",
       "dtype: int64"
      ]
     },
     "execution_count": 6,
     "metadata": {},
     "output_type": "execute_result"
    }
   ],
   "source": [
    "data.isnull().sum()"
   ]
  },
  {
   "cell_type": "code",
   "execution_count": 7,
   "id": "f24dcac0",
   "metadata": {
    "scrolled": true
   },
   "outputs": [],
   "source": [
    "data['gender'] = \"temp\" # creating a new column \"gender\" & inserting temp in each row\n",
    "def func(s):\n",
    "    if s == \"male\":\n",
    "        return 0\n",
    "    else:\n",
    "        return 1\n",
    "\n",
    "data['gender'] = data.sex.apply(func) "
   ]
  },
  {
   "cell_type": "code",
   "execution_count": 8,
   "id": "227f6100",
   "metadata": {},
   "outputs": [],
   "source": [
    "data['somke'] = 0 # creating a new column \"gender\" & inserting temp in each row\n",
    "# Considering if (he/she) smokes = 1, if NOT smoke = 0\n",
    "def function(s):\n",
    "    if s == \"yes\":\n",
    "        return 1\n",
    "    else:\n",
    "        return 0\n",
    "\n",
    "data['smoke'] = data.smoker.apply(function) "
   ]
  },
  {
   "cell_type": "code",
   "execution_count": 9,
   "id": "aa047aa1",
   "metadata": {},
   "outputs": [
    {
     "data": {
      "text/plain": [
       "array(['southwest', 'southeast', 'northwest', 'northeast'], dtype=object)"
      ]
     },
     "execution_count": 9,
     "metadata": {},
     "output_type": "execute_result"
    }
   ],
   "source": [
    "data['region'].unique()"
   ]
  },
  {
   "cell_type": "code",
   "execution_count": 10,
   "id": "98d94ac4",
   "metadata": {},
   "outputs": [],
   "source": [
    "data['location'] = 0 # creating column location with all 0's\n",
    "# Let's consider southwest = 1, southeast = 2, northwest = 3, northeast = 4\n",
    "def convert(s):\n",
    "    if s == \"southwest\":\n",
    "        return 1\n",
    "    elif s == \"southeast\":\n",
    "        return 2\n",
    "    elif s == \"northwest\":\n",
    "        return 3\n",
    "    else:\n",
    "        return 4\n",
    "\n",
    "data['location'] = data.region.apply(convert) "
   ]
  },
  {
   "cell_type": "code",
   "execution_count": 11,
   "id": "06ccbdab",
   "metadata": {},
   "outputs": [
    {
     "data": {
      "text/html": [
       "<div>\n",
       "<style scoped>\n",
       "    .dataframe tbody tr th:only-of-type {\n",
       "        vertical-align: middle;\n",
       "    }\n",
       "\n",
       "    .dataframe tbody tr th {\n",
       "        vertical-align: top;\n",
       "    }\n",
       "\n",
       "    .dataframe thead th {\n",
       "        text-align: right;\n",
       "    }\n",
       "</style>\n",
       "<table border=\"1\" class=\"dataframe\">\n",
       "  <thead>\n",
       "    <tr style=\"text-align: right;\">\n",
       "      <th></th>\n",
       "      <th>age</th>\n",
       "      <th>bmi</th>\n",
       "      <th>children</th>\n",
       "      <th>charges</th>\n",
       "      <th>gender</th>\n",
       "      <th>somke</th>\n",
       "      <th>smoke</th>\n",
       "      <th>location</th>\n",
       "    </tr>\n",
       "  </thead>\n",
       "  <tbody>\n",
       "    <tr>\n",
       "      <th>0</th>\n",
       "      <td>19</td>\n",
       "      <td>27.900</td>\n",
       "      <td>0</td>\n",
       "      <td>16884.92400</td>\n",
       "      <td>1</td>\n",
       "      <td>0</td>\n",
       "      <td>1</td>\n",
       "      <td>1</td>\n",
       "    </tr>\n",
       "    <tr>\n",
       "      <th>1</th>\n",
       "      <td>18</td>\n",
       "      <td>33.770</td>\n",
       "      <td>1</td>\n",
       "      <td>1725.55230</td>\n",
       "      <td>0</td>\n",
       "      <td>0</td>\n",
       "      <td>0</td>\n",
       "      <td>2</td>\n",
       "    </tr>\n",
       "    <tr>\n",
       "      <th>2</th>\n",
       "      <td>28</td>\n",
       "      <td>33.000</td>\n",
       "      <td>3</td>\n",
       "      <td>4449.46200</td>\n",
       "      <td>0</td>\n",
       "      <td>0</td>\n",
       "      <td>0</td>\n",
       "      <td>2</td>\n",
       "    </tr>\n",
       "    <tr>\n",
       "      <th>3</th>\n",
       "      <td>33</td>\n",
       "      <td>22.705</td>\n",
       "      <td>0</td>\n",
       "      <td>21984.47061</td>\n",
       "      <td>0</td>\n",
       "      <td>0</td>\n",
       "      <td>0</td>\n",
       "      <td>3</td>\n",
       "    </tr>\n",
       "    <tr>\n",
       "      <th>4</th>\n",
       "      <td>32</td>\n",
       "      <td>28.880</td>\n",
       "      <td>0</td>\n",
       "      <td>3866.85520</td>\n",
       "      <td>0</td>\n",
       "      <td>0</td>\n",
       "      <td>0</td>\n",
       "      <td>3</td>\n",
       "    </tr>\n",
       "  </tbody>\n",
       "</table>\n",
       "</div>"
      ],
      "text/plain": [
       "   age     bmi  children      charges  gender  somke  smoke  location\n",
       "0   19  27.900         0  16884.92400       1      0      1         1\n",
       "1   18  33.770         1   1725.55230       0      0      0         2\n",
       "2   28  33.000         3   4449.46200       0      0      0         2\n",
       "3   33  22.705         0  21984.47061       0      0      0         3\n",
       "4   32  28.880         0   3866.85520       0      0      0         3"
      ]
     },
     "execution_count": 11,
     "metadata": {},
     "output_type": "execute_result"
    }
   ],
   "source": [
    "data.drop('sex', axis = 1, inplace = True)\n",
    "data.drop('region', axis = 1, inplace = True)\n",
    "data.drop('smoker', axis = 1, inplace = True)\n",
    "data.head()"
   ]
  },
  {
   "cell_type": "markdown",
   "id": "1477526a",
   "metadata": {},
   "source": [
    "#### For n - features linear regression will be \"Y = m0 * x0 + m1 * x1 + ..... + mn * xn\"  considering x0 as dummy feature => x0 = 1, (therefore m0 * x0) will work as an intercept. for n - features we have to find m0, m1,..., mn.  For this dataset we're goining to use multiple regression model\n",
    "#### Here Y(output value) will be \"charges\" & other attributes will be feature's"
   ]
  },
  {
   "cell_type": "markdown",
   "id": "fee5e4be",
   "metadata": {},
   "source": [
    "#### CREATING OWN GRADIENT DESCENT FUNCTION"
   ]
  },
  {
   "cell_type": "code",
   "execution_count": 12,
   "id": "caa56d00",
   "metadata": {},
   "outputs": [],
   "source": [
    "# update m & c at each gradient step -----> Try'in finding optimal\n",
    "\"\"\" cost = (1/M) * sum((Y_actual - Y_pred)**2) where Y_pred = m0*x0 + m1*x1 +...+ mn*xn\n",
    "Here M = no. of training example & N = no. of features,  m_slope: d(cost)/d(m)  &   c_slope: d(cost)/d(c)\n",
    "m_slope: (-2/M) * sum(Y_actual - Y_pred)*xi, here m_slope have slope of all features & intercept too\"\"\"\n",
    "\n",
    "def step_gradient(data, learning_rate, m):\n",
    "    N = len(data.columns); M = len(data)\n",
    "    m_slope = np.zeros(N); \n",
    "    for i in range(M):            # For each training set\n",
    "        y = data.iat[i, 3]\n",
    "        for j in range(N):        # For each features\n",
    "            x = data.iat[i, j] \n",
    "            if (j == 3):\n",
    "                m_slope[j] += (-2/M)*(y - m[3]*x)\n",
    "                continue\n",
    "            m_slope[j] += (-2/M)*(y - m[j]*x)*x \n",
    "            \n",
    "    new_m = m - learning_rate * m_slope\n",
    "    return new_m"
   ]
  },
  {
   "cell_type": "code",
   "execution_count": 13,
   "id": "b9205a1a",
   "metadata": {},
   "outputs": [],
   "source": [
    "# Cost function to verify wheather given learning_rate, iteration is good enough for data\n",
    "\n",
    "def cost(data, m):\n",
    "    total_cost = 0; M = len(data); N = len(data.columns)\n",
    "    for i in range(M):\n",
    "        y = data.iat[i, 3]\n",
    "        for j in range(N):\n",
    "            x = data.iat[i, j]\n",
    "            total_cost += (1/M)*((y - m[j]*x - m[3])**2) # here m[3] is used as intercept\n",
    "    return total_cost"
   ]
  },
  {
   "cell_type": "code",
   "execution_count": 14,
   "id": "86d1af7d",
   "metadata": {},
   "outputs": [],
   "source": [
    "# It will find optimal m (& update) then print it\n",
    "\n",
    "def own_gradient_descent(data, learning_rate, iteration) :\n",
    "    N = len(data.columns) # no. of features\n",
    "    m = np.zeros(N) # array of intercept & slope\n",
    "    for i in range(iteration):\n",
    "        m = step_gradient(data, learning_rate, m)\n",
    "        print(i, \"Cost : \", cost(data, m))\n",
    "    print(m) # updated m & c after all gradient descent steps taken\n",
    "\n",
    "# If cost is looks constant after certain iteration ==> We're near about optimal we update \n",
    "# the learning rate & iteration(or no. of descent steps) in order to come close to least cost"
   ]
  },
  {
   "cell_type": "code",
   "execution_count": 21,
   "id": "d89e1065",
   "metadata": {},
   "outputs": [
    {
     "name": "stdout",
     "output_type": "stream",
     "text": [
      "0 Cost :  2368692825.3078732\n",
      "1 Cost :  2225287678.9813128\n",
      "2 Cost :  2126454644.276239\n",
      "3 Cost :  2057967066.7724466\n",
      "4 Cost :  2009502888.0879629\n",
      "5 Cost :  1975215686.9315813\n",
      "6 Cost :  1950422433.8215425\n",
      "7 Cost :  1932606526.5799863\n",
      "8 Cost :  1919485444.6761715\n",
      "9 Cost :  1909939843.650699\n",
      "[308.89088088 332.28159548  21.69447828   0.78414619   8.70392762\n",
      "   0.           9.1875059   46.0562146 ]\n"
     ]
    }
   ],
   "source": [
    "own_gradient_descent(data, 0.00007, 10)"
   ]
  }
 ],
 "metadata": {
  "kernelspec": {
   "display_name": "Python 3 (ipykernel)",
   "language": "python",
   "name": "python3"
  },
  "language_info": {
   "codemirror_mode": {
    "name": "ipython",
    "version": 3
   },
   "file_extension": ".py",
   "mimetype": "text/x-python",
   "name": "python",
   "nbconvert_exporter": "python",
   "pygments_lexer": "ipython3",
   "version": "3.8.10"
  }
 },
 "nbformat": 4,
 "nbformat_minor": 5
}
